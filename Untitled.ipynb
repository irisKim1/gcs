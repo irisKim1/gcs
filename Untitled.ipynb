{
 "cells": [
  {
   "cell_type": "code",
   "execution_count": 15,
   "id": "df304772-94d0-45bb-9d51-9e33ebe9dbe5",
   "metadata": {
    "tags": []
   },
   "outputs": [
    {
     "data": {
      "text/plain": [
       "('./test/test.pdf', <http.client.HTTPMessage at 0x7fe025c3f0d0>)"
      ]
     },
     "execution_count": 15,
     "metadata": {},
     "output_type": "execute_result"
    }
   ],
   "source": [
    "import os\n",
    "import urllib.request\n",
    "\n",
    "url = \"https://mypage.aia.co.kr/AIAHomepage/disclosure/download.do?serverFileNm=NTVUYPBQDFFHEIU.pdf&usrFileNm=무 aiavitalitydiamondwealth변액연금보험-pa_통약관합본_230403_v1.pdf\"\n",
    "encoded_url = urllib.parse.quote(url, safe=':/?=&')\n",
    "pdf_file = os.path.join('./test', 'test.pdf')\n",
    "urllib.request.urlretrieve(encoded_url, pdf_file)\n"
   ]
  },
  {
   "cell_type": "code",
   "execution_count": null,
   "id": "9d37ea42-8264-4035-a3da-e13b47fdc6d1",
   "metadata": {},
   "outputs": [],
   "source": []
  }
 ],
 "metadata": {
  "kernelspec": {
   "display_name": "Python 3 (ipykernel)",
   "language": "python",
   "name": "python3"
  },
  "language_info": {
   "codemirror_mode": {
    "name": "ipython",
    "version": 3
   },
   "file_extension": ".py",
   "mimetype": "text/x-python",
   "name": "python",
   "nbconvert_exporter": "python",
   "pygments_lexer": "ipython3",
   "version": "3.9.7"
  }
 },
 "nbformat": 4,
 "nbformat_minor": 5
}
